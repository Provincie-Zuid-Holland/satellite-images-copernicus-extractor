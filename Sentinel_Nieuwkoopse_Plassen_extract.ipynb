{
  "nbformat": 4,
  "nbformat_minor": 0,
  "metadata": {
    "colab": {
      "provenance": []
    },
    "kernelspec": {
      "name": "python3",
      "display_name": "Python 3"
    },
    "language_info": {
      "name": "python"
    }
  },
  "cells": [
    {
      "cell_type": "code",
      "source": [
        "import ee\n",
        "import datetime\n"
      ],
      "metadata": {
        "id": "I9SZi8Afg8di"
      },
      "execution_count": 1,
      "outputs": []
    },
    {
      "cell_type": "code",
      "source": [
        "ee.Authenticate()"
      ],
      "metadata": {
        "id": "3Eto8rxehPP-"
      },
      "execution_count": 4,
      "outputs": []
    },
    {
      "cell_type": "code",
      "source": [
        "ee.Initialize(project='ee-oosterhuisthijs')"
      ],
      "metadata": {
        "id": "MagGJqXBhK7W"
      },
      "execution_count": 6,
      "outputs": []
    },
    {
      "cell_type": "code",
      "execution_count": 11,
      "metadata": {
        "colab": {
          "base_uri": "https://localhost:8080/"
        },
        "id": "2G5qbKIYg3mV",
        "outputId": "f232d0a3-6cdc-4299-aa38-e82ac20f3bdb"
      },
      "outputs": [
        {
          "output_type": "stream",
          "name": "stdout",
          "text": [
            "Started exporting summer RGB image for 2018: Nieuwkoopse_plassen_summer_2018_2018-07-02\n",
            "Started exporting winter RGB image for 2018: Nieuwkoopse_plassen_winter_2018_2019-02-27\n",
            "Started exporting summer RGB image for 2019: Nieuwkoopse_plassen_summer_2019_2019-08-26\n",
            "Started exporting winter RGB image for 2019: Nieuwkoopse_plassen_winter_2019_2020-02-07\n",
            "Started exporting summer RGB image for 2020: Nieuwkoopse_plassen_summer_2020_2020-07-31\n",
            "Started exporting winter RGB image for 2020: Nieuwkoopse_plassen_winter_2020_2021-01-25\n",
            "Started exporting summer RGB image for 2021: Nieuwkoopse_plassen_summer_2021_2021-07-21\n",
            "Started exporting winter RGB image for 2021: Nieuwkoopse_plassen_winter_2021_2022-03-08\n",
            "Started exporting summer RGB image for 2022: Nieuwkoopse_plassen_summer_2022_2022-07-19\n",
            "Started exporting winter RGB image for 2022: Nieuwkoopse_plassen_winter_2022_2023-02-14\n",
            "Started exporting summer RGB image for 2023: Nieuwkoopse_plassen_summer_2023_2023-09-07\n",
            "Started exporting winter RGB image for 2023: Nieuwkoopse_plassen_winter_2023_2024-01-10\n",
            "All export tasks for RGB images started.\n"
          ]
        }
      ],
      "source": [
        "\n",
        "\n",
        "# Define the polygon (adjust coordinates to match your region of interest)\n",
        "polygon = ee.Geometry.Rectangle([ 4.73 , 52.095, 4.878 ,  52.182  ])\n",
        "\n",
        "# Function to filter images for RGB and specific season\n",
        "def get_seasonal_image(start_date, end_date, polygon, season, year):\n",
        "    # Load Sentinel-2 collection and filter for date, bounds, and cloud percentage\n",
        "    collection = ee.ImageCollection('COPERNICUS/S2_SR_HARMONIZED') \\\n",
        "        .filterDate(start_date, end_date) \\\n",
        "        .filterBounds(polygon) \\\n",
        "        .filter(ee.Filter.lt('CLOUDY_PIXEL_PERCENTAGE', 10)) \\\n",
        "        .sort('CLOUDY_PIXEL_PERCENTAGE')\n",
        "\n",
        "    # Get the first image and select only the RGB bands\n",
        "    image = collection.first().select(['TCI_R', 'TCI_G', 'TCI_B'])\n",
        "\n",
        "    # Add the date to the filename\n",
        "    date_str = ee.Date(image.get('system:time_start')).format('YYYY-MM-dd').getInfo()\n",
        "    filename = f'Nieuwkoopse_plassen_{season}_{year}_{date_str}'\n",
        "\n",
        "    # Export the image to Google Drive as a GeoTIFF\n",
        "    task = ee.batch.Export.image.toDrive(\n",
        "        image=image,\n",
        "        description=f'exported_{season}_{year}_rgb_image',\n",
        "        folder='earth_engine_exports',\n",
        "        fileNamePrefix=filename,\n",
        "        region=polygon,\n",
        "        scale=10,  # Sentinel-2 RGB bands have 10m resolution\n",
        "        fileFormat='GeoTIFF',\n",
        "        crs='EPSG:4326'  # Optional: Set CRS to WGS84\n",
        "    )\n",
        "    task.start()\n",
        "    print(f\"Started exporting {season} RGB image for {year}: {filename}\")\n",
        "\n",
        "# Define the date ranges for summer (June-August) and winter (December-February)\n",
        "def get_summer_winter_images(year, polygon):\n",
        "    # Summer: June 21 - September 21 (adjust as necessary)\n",
        "    summer_start = f'{year}-06-21'\n",
        "    summer_end = f'{year}-09-21'\n",
        "\n",
        "    # Winter: December 21 - March 21 of the next year (adjust as necessary)\n",
        "    winter_start = f'{year}-12-21'\n",
        "    winter_end = f'{year+1}-03-21'\n",
        "\n",
        "    # Retrieve cloud-free RGB images for both seasons\n",
        "    get_seasonal_image(summer_start, summer_end, polygon, 'summer', year)\n",
        "    get_seasonal_image(winter_start, winter_end, polygon, 'winter', year)\n",
        "\n",
        "# Run the process for each year from 2015 to 2024\n",
        "for year in range(2018, 2024):\n",
        "    get_summer_winter_images(year, polygon)\n",
        "\n",
        "print(\"All export tasks for RGB images started.\")\n"
      ]
    }
  ]
}